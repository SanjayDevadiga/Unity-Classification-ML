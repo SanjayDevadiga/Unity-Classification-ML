{
  "cells": [
    {
      "cell_type": "code",
      "execution_count": 1,
      "metadata": {
        "id": "BWzMm7-Tnm-f"
      },
      "outputs": [],
      "source": [
        "import tensorflow as tf\n",
        "from tensorflow.keras.preprocessing.image import ImageDataGenerator\n",
        "import numpy as np"
      ]
    },
    {
      "cell_type": "code",
      "execution_count": 2,
      "metadata": {
        "id": "2LFR-Jr3n78U"
      },
      "outputs": [],
      "source": [
        "data_train_path=\"C:\\\\Users\\\\somes\\\\Downloads\\\\Ball-Classification-main\\\\Ball-Classification-main\\\\train\"\n",
        "data_test_path=\"C:\\\\Users\\\\somes\\\\Downloads\\\\Ball-Classification-main\\\\Ball-Classification-main\\\\test\"\n",
        "\n",
        "\n",
        "batch_size=4\n",
        "img_size=224\n",
        "optimizer=tf.keras.optimizers.Adam(learning_rate = 0.001,decay = 1e-4)\n",
        "loss=\"categorical_crossentropy\"\n",
        "epochs=50\n",
        "onnx_path=\"C:\\\\Users\\\\somes\\\\Downloads\\\\Ball-Classification-main\\\\Ball-Classification-main\\\\model.onnx\"\n"
      ]
    },
    {
      "cell_type": "code",
      "execution_count": 3,
      "metadata": {
        "colab": {
          "base_uri": "https://localhost:8080/"
        },
        "id": "pWqpNVVgn9cx",
        "outputId": "c72ba1f1-62ee-4044-dcb9-fc95ad81e114"
      },
      "outputs": [
        {
          "name": "stdout",
          "output_type": "stream",
          "text": [
            "Found 330 images belonging to 2 classes.\n",
            "Found 10 images belonging to 2 classes.\n"
          ]
        }
      ],
      "source": [
        "image_generator_test = ImageDataGenerator(rescale=1./255,)    \n",
        "data_train = image_generator_test.flow_from_directory(batch_size=batch_size,\n",
        "                                                  directory=data_train_path,\n",
        "                                                  shuffle=True,\n",
        "                                                  target_size=(img_size, img_size), \n",
        "                                                  class_mode='categorical'\n",
        "  \n",
        "                                                  )\n",
        "data_test = image_generator_test.flow_from_directory(batch_size=batch_size,\n",
        "                                                  directory=data_test_path,\n",
        "                                                  shuffle=True,\n",
        "                                                  target_size=(img_size, img_size), \n",
        "                                                  class_mode='categorical'\n",
        "  \n",
        "                                                  )"
      ]
    },
    {
      "cell_type": "code",
      "execution_count": 4,
      "metadata": {
        "colab": {
          "base_uri": "https://localhost:8080/"
        },
        "id": "bx_MFkm2n-mI",
        "outputId": "833290e4-f9c2-4ea7-8bdd-76e69b6d4203"
      },
      "outputs": [
        {
          "name": "stdout",
          "output_type": "stream",
          "text": [
            "Train Data {'football': 0, 'soccer ball': 1}\n",
            "Test Data {'football': 0, 'soccer ball': 1}\n"
          ]
        }
      ],
      "source": [
        "print(\"Train Data\",data_train.class_indices)\n",
        "print(\"Test Data\",data_test.class_indices)\n",
        "\n"
      ]
    },
    {
      "cell_type": "code",
      "execution_count": 5,
      "metadata": {
        "colab": {
          "base_uri": "https://localhost:8080/"
        },
        "id": "EBuqD4Spn_nM",
        "outputId": "366f1818-5051-4684-cf78-c9dbfb822950"
      },
      "outputs": [
        {
          "name": "stdout",
          "output_type": "stream",
          "text": [
            "Model: \"model\"\n",
            "_________________________________________________________________\n",
            " Layer (type)                Output Shape              Param #   \n",
            "=================================================================\n",
            " input (InputLayer)          [(None, 224, 224, 3)]     0         \n",
            "                                                                 \n",
            " conv2d (Conv2D)             (None, 224, 224, 16)      448       \n",
            "                                                                 \n",
            " max_pooling2d (MaxPooling2D  (None, 112, 112, 16)     0         \n",
            " )                                                               \n",
            "                                                                 \n",
            " conv2d_1 (Conv2D)           (None, 112, 112, 32)      4640      \n",
            "                                                                 \n",
            " max_pooling2d_1 (MaxPooling  (None, 56, 56, 32)       0         \n",
            " 2D)                                                             \n",
            "                                                                 \n",
            " conv2d_2 (Conv2D)           (None, 56, 56, 64)        18496     \n",
            "                                                                 \n",
            " max_pooling2d_2 (MaxPooling  (None, 28, 28, 64)       0         \n",
            " 2D)                                                             \n",
            "                                                                 \n",
            " conv2d_3 (Conv2D)           (None, 28, 28, 128)       73856     \n",
            "                                                                 \n",
            " max_pooling2d_3 (MaxPooling  (None, 14, 14, 128)      0         \n",
            " 2D)                                                             \n",
            "                                                                 \n",
            " conv2d_4 (Conv2D)           (None, 14, 14, 256)       295168    \n",
            "                                                                 \n",
            " global_max_pooling2d (Globa  (None, 256)              0         \n",
            " lMaxPooling2D)                                                  \n",
            "                                                                 \n",
            " dense (Dense)               (None, 128)               32896     \n",
            "                                                                 \n",
            " output (Dense)              (None, 2)                 258       \n",
            "                                                                 \n",
            "=================================================================\n",
            "Total params: 425,762\n",
            "Trainable params: 425,762\n",
            "Non-trainable params: 0\n",
            "_________________________________________________________________\n"
          ]
        }
      ],
      "source": [
        "from tensorflow.keras.layers import Input, Conv2D, MaxPooling2D, BatchNormalization,concatenate,Conv2DTranspose,Dropout\n",
        "\n",
        "inputs=Input(shape=(224,224,3),name=\"input\")\n",
        "    \n",
        "x = Conv2D(16,(3,3), activation = 'relu', padding = 'same', kernel_initializer = 'he_normal')(inputs)\n",
        "\n",
        "x = MaxPooling2D(pool_size=(2, 2))(x)\n",
        "x = Conv2D(32,(3,3), activation = 'relu', padding = 'same', kernel_initializer = 'he_normal')(x)\n",
        "\n",
        "x = MaxPooling2D(pool_size=(2, 2))(x)\n",
        "x = Conv2D(64,(3,3), activation = 'relu', padding = 'same', kernel_initializer = 'he_normal')(x)\n",
        "\n",
        "x = MaxPooling2D(pool_size=(2, 2))(x)\n",
        "x = Conv2D(128,(3,3), activation = 'relu', padding = 'same', kernel_initializer = 'he_normal')(x)\n",
        "\n",
        "x = MaxPooling2D(pool_size=(2, 2))(x)\n",
        "x = Conv2D(256,(3,3),activation = 'relu', padding = 'same', kernel_initializer = 'he_normal')(x)\n",
        "\n",
        "x=tf.keras.layers.GlobalMaxPool2D()(x)\n",
        "\n",
        "x=tf.keras.layers.Dense(128,activation=\"relu\")(x)\n",
        "x=tf.keras.layers.Dense(len(data_train.class_indices),activation=\"softmax\",name=\"output\")(x)\n",
        "\n",
        "model=tf.keras.Model(inputs=inputs,outputs=x)\n",
        "model.summary()\n",
        "\n",
        "model.compile(optimizer =optimizer,loss = loss,  metrics = [\"accuracy\"])\n"
      ]
    },
    {
      "cell_type": "code",
      "execution_count": 6,
      "metadata": {
        "id": "6d7R05iDoAxI"
      },
      "outputs": [],
      "source": [
        "callbacks=[]\n",
        "callbacks.append(tf.keras.callbacks.ReduceLROnPlateau(monitor = 'loss',factor = 0.1,patience = 2,min=1e-6,verbose=1))\n",
        "callbacks.append(tf.keras.callbacks.EarlyStopping(monitor=\"loss\",patience=4,restore_best_weights=True))"
      ]
    },
    {
      "cell_type": "code",
      "execution_count": 7,
      "metadata": {
        "id": "NTZ0PuscoBtR"
      },
      "outputs": [
        {
          "name": "stdout",
          "output_type": "stream",
          "text": [
            "Epoch 1/10\n",
            "83/83 [==============================] - 12s 137ms/step - loss: 0.5665 - accuracy: 0.8000 - val_loss: 0.4835 - val_accuracy: 0.8000 - lr: 0.0010\n",
            "Epoch 2/10\n",
            "83/83 [==============================] - 10s 126ms/step - loss: 0.2852 - accuracy: 0.8879 - val_loss: 0.3458 - val_accuracy: 0.9000 - lr: 0.0010\n",
            "Epoch 3/10\n",
            "83/83 [==============================] - 10s 126ms/step - loss: 0.2324 - accuracy: 0.9152 - val_loss: 0.1311 - val_accuracy: 1.0000 - lr: 0.0010\n",
            "Epoch 4/10\n",
            "83/83 [==============================] - 10s 124ms/step - loss: 0.1267 - accuracy: 0.9576 - val_loss: 0.7235 - val_accuracy: 0.8000 - lr: 0.0010\n",
            "Epoch 5/10\n",
            "83/83 [==============================] - 10s 125ms/step - loss: 0.1682 - accuracy: 0.9394 - val_loss: 0.0615 - val_accuracy: 1.0000 - lr: 0.0010\n",
            "Epoch 6/10\n",
            "83/83 [==============================] - 10s 126ms/step - loss: 0.0696 - accuracy: 0.9848 - val_loss: 0.0353 - val_accuracy: 1.0000 - lr: 0.0010\n",
            "Epoch 7/10\n",
            "83/83 [==============================] - 10s 125ms/step - loss: 0.1007 - accuracy: 0.9727 - val_loss: 0.0956 - val_accuracy: 0.9000 - lr: 0.0010\n",
            "Epoch 8/10\n",
            "83/83 [==============================] - ETA: 0s - loss: 0.1268 - accuracy: 0.9576\n",
            "Epoch 8: ReduceLROnPlateau reducing learning rate to 0.00010000000474974513.\n",
            "83/83 [==============================] - 10s 125ms/step - loss: 0.1268 - accuracy: 0.9576 - val_loss: 0.1581 - val_accuracy: 0.9000 - lr: 0.0010\n",
            "Epoch 9/10\n",
            "83/83 [==============================] - 11s 127ms/step - loss: 0.0554 - accuracy: 0.9848 - val_loss: 0.0377 - val_accuracy: 1.0000 - lr: 1.0000e-04\n",
            "Epoch 10/10\n",
            "83/83 [==============================] - 10s 124ms/step - loss: 0.0277 - accuracy: 0.9939 - val_loss: 0.0321 - val_accuracy: 1.0000 - lr: 1.0000e-04\n"
          ]
        },
        {
          "data": {
            "text/plain": [
              "<keras.callbacks.History at 0x2594f5ad580>"
            ]
          },
          "execution_count": 7,
          "metadata": {},
          "output_type": "execute_result"
        }
      ],
      "source": [
        "model.fit(data_train,validation_data=data_test,  epochs = 10,callbacks=callbacks)"
      ]
    },
    {
      "cell_type": "code",
      "execution_count": 8,
      "metadata": {
        "colab": {
          "base_uri": "https://localhost:8080/",
          "height": 55
        },
        "id": "dvWf7TkGoCzg",
        "outputId": "1a1e4d6d-9f7c-4a58-8073-d9954d1e0961"
      },
      "outputs": [
        {
          "name": "stdout",
          "output_type": "stream",
          "text": [
            "1/1 [==============================] - 0s 83ms/step\n"
          ]
        },
        {
          "data": {
            "text/plain": [
              "'football'"
            ]
          },
          "execution_count": 8,
          "metadata": {},
          "output_type": "execute_result"
        }
      ],
      "source": [
        "from PIL import Image\n",
        "import numpy as np\n",
        "\n",
        "img = Image.open(\"C:\\\\Users\\\\somes\\\\Downloads\\\\Ball-Classification-main\\\\Ball-Classification-main\\\\test\\\\football\\\\football20.png\").convert('RGB').resize((img_size,img_size))\n",
        "img=np.asarray(img)\n",
        "predicted=model.predict(np.expand_dims(img,axis=0))\n",
        "predicted\n",
        "list(data_train.class_indices.keys())[np.argmax(predicted)]"
      ]
    },
    {
      "cell_type": "code",
      "execution_count": 9,
      "metadata": {
        "colab": {
          "base_uri": "https://localhost:8080/"
        },
        "id": "nXmJWS2LpK1n",
        "outputId": "6d4ac66e-080b-4319-c00f-1fda69b2daed"
      },
      "outputs": [
        {
          "data": {
            "text/plain": [
              "array([[1., 0.]], dtype=float32)"
            ]
          },
          "execution_count": 9,
          "metadata": {},
          "output_type": "execute_result"
        }
      ],
      "source": [
        "predicted"
      ]
    },
    {
      "cell_type": "code",
      "execution_count": 10,
      "metadata": {
        "colab": {
          "base_uri": "https://localhost:8080/"
        },
        "id": "0smWc1r-oD1E",
        "outputId": "fb0d50e2-9a0a-43f5-d5b8-42a1bf2e0ec9"
      },
      "outputs": [
        {
          "name": "stderr",
          "output_type": "stream",
          "text": [
            "WARNING:absl:Found untraced functions such as _jit_compiled_convolution_op, _jit_compiled_convolution_op, _jit_compiled_convolution_op, _jit_compiled_convolution_op, _jit_compiled_convolution_op while saving (showing 5 of 5). These functions will not be directly callable after loading.\n"
          ]
        },
        {
          "name": "stdout",
          "output_type": "stream",
          "text": [
            "INFO:tensorflow:Assets written to: C:\\Users\\somes\\Downloads\\Ball-Classification-main\\Ball-Classification-main\\saved_model\\assets\n"
          ]
        },
        {
          "name": "stderr",
          "output_type": "stream",
          "text": [
            "INFO:tensorflow:Assets written to: C:\\Users\\somes\\Downloads\\Ball-Classification-main\\Ball-Classification-main\\saved_model\\assets\n"
          ]
        }
      ],
      "source": [
        "import os\n",
        "save_model_path=\"C:\\\\Users\\\\somes\\\\Downloads\\\\Ball-Classification-main\\\\Ball-Classification-main\\\\saved_model\"\n",
        "if not os.path.isdir(save_model_path):\n",
        "      os.makedirs(save_model_path)\n",
        "\n",
        "model.save(save_model_path)"
      ]
    },
    {
      "cell_type": "code",
      "execution_count": 11,
      "metadata": {
        "colab": {
          "base_uri": "https://localhost:8080/"
        },
        "id": "E8Gnb5iPoE9O",
        "outputId": "5667a37c-68bd-4667-abbb-c81ff4020912"
      },
      "outputs": [],
      "source": [
        "#!pip install onnxruntime\n",
        "#!pip install onnx\n",
        "#!pip install -U tf2onnx\n",
        "onnx_path=\"C:\\\\Users\\\\somes\\\\Downloads\\\\Ball-Classification-main\\\\Ball-Classification-main\\\\model.onnx\"\n"
      ]
    },
    {
      "cell_type": "code",
      "execution_count": 12,
      "metadata": {
        "colab": {
          "base_uri": "https://localhost:8080/"
        },
        "id": "S38ot5lUpEhb",
        "outputId": "9c728eef-981b-44b3-ba0a-0f7c86057e12"
      },
      "outputs": [
        {
          "name": "stderr",
          "output_type": "stream",
          "text": [
            "2024-01-19 21:35:59.227570: W tensorflow/stream_executor/platform/default/dso_loader.cc:64] Could not load dynamic library 'cudart64_110.dll'; dlerror: cudart64_110.dll not found\n",
            "2024-01-19 21:35:59.227783: I tensorflow/stream_executor/cuda/cudart_stub.cc:29] Ignore above cudart dlerror if you do not have a GPU set up on your machine.\n",
            "c:\\Users\\somes\\.conda\\envs\\unity-classification-p38\\lib\\runpy.py:127: RuntimeWarning: 'tf2onnx.convert' found in sys.modules after import of package 'tf2onnx', but prior to execution of 'tf2onnx.convert'; this may result in unpredictable behaviour\n",
            "  warn(RuntimeWarning(msg))\n",
            "2024-01-19 21:36:01.563503: W tensorflow/stream_executor/platform/default/dso_loader.cc:64] Could not load dynamic library 'cudart64_110.dll'; dlerror: cudart64_110.dll not found\n",
            "2024-01-19 21:36:01.564246: W tensorflow/stream_executor/platform/default/dso_loader.cc:64] Could not load dynamic library 'cublas64_11.dll'; dlerror: cublas64_11.dll not found\n",
            "2024-01-19 21:36:01.565170: W tensorflow/stream_executor/platform/default/dso_loader.cc:64] Could not load dynamic library 'cublasLt64_11.dll'; dlerror: cublasLt64_11.dll not found\n",
            "2024-01-19 21:36:01.565855: W tensorflow/stream_executor/platform/default/dso_loader.cc:64] Could not load dynamic library 'cufft64_10.dll'; dlerror: cufft64_10.dll not found\n",
            "2024-01-19 21:36:01.566438: W tensorflow/stream_executor/platform/default/dso_loader.cc:64] Could not load dynamic library 'curand64_10.dll'; dlerror: curand64_10.dll not found\n",
            "2024-01-19 21:36:01.566990: W tensorflow/stream_executor/platform/default/dso_loader.cc:64] Could not load dynamic library 'cusolver64_11.dll'; dlerror: cusolver64_11.dll not found\n",
            "2024-01-19 21:36:01.567574: W tensorflow/stream_executor/platform/default/dso_loader.cc:64] Could not load dynamic library 'cusparse64_11.dll'; dlerror: cusparse64_11.dll not found\n",
            "2024-01-19 21:36:01.568129: W tensorflow/stream_executor/platform/default/dso_loader.cc:64] Could not load dynamic library 'cudnn64_8.dll'; dlerror: cudnn64_8.dll not found\n",
            "2024-01-19 21:36:01.568330: W tensorflow/core/common_runtime/gpu/gpu_device.cc:1850] Cannot dlopen some GPU libraries. Please make sure the missing libraries mentioned above are installed properly if you would like to use GPU. Follow the guide at https://www.tensorflow.org/install/gpu for how to download and setup the required libraries for your platform.\n",
            "Skipping registering GPU devices...\n",
            "2024-01-19 21:36:01.569070: I tensorflow/core/platform/cpu_feature_guard.cc:193] This TensorFlow binary is optimized with oneAPI Deep Neural Network Library (oneDNN) to use the following CPU instructions in performance-critical operations:  AVX AVX2\n",
            "To enable them in other operations, rebuild TensorFlow with the appropriate compiler flags.\n",
            "2024-01-19 21:36:01,571 - WARNING - '--tag' not specified for saved_model. Using --tag serve\n",
            "2024-01-19 21:36:01,966 - INFO - Signatures found in model: [serving_default].\n",
            "2024-01-19 21:36:01,966 - WARNING - '--signature_def' not specified, using first signature: serving_default\n",
            "2024-01-19 21:36:01,966 - INFO - Output names: ['output']\n",
            "2024-01-19 21:36:01.968391: I tensorflow/core/grappler/devices.cc:66] Number of eligible GPUs (core count >= 8, compute capability >= 0.0): 1\n",
            "2024-01-19 21:36:01.968652: I tensorflow/core/grappler/clusters/single_machine.cc:358] Starting new session\n",
            "2024-01-19 21:36:01.969729: W tensorflow/core/common_runtime/gpu/gpu_device.cc:1850] Cannot dlopen some GPU libraries. Please make sure the missing libraries mentioned above are installed properly if you would like to use GPU. Follow the guide at https://www.tensorflow.org/install/gpu for how to download and setup the required libraries for your platform.\n",
            "Skipping registering GPU devices...\n",
            "2024-01-19 21:36:02.202290: I tensorflow/core/grappler/devices.cc:66] Number of eligible GPUs (core count >= 8, compute capability >= 0.0): 1\n",
            "2024-01-19 21:36:02.202648: I tensorflow/core/grappler/clusters/single_machine.cc:358] Starting new session\n",
            "2024-01-19 21:36:02.203818: W tensorflow/core/common_runtime/gpu/gpu_device.cc:1850] Cannot dlopen some GPU libraries. Please make sure the missing libraries mentioned above are installed properly if you would like to use GPU. Follow the guide at https://www.tensorflow.org/install/gpu for how to download and setup the required libraries for your platform.\n",
            "Skipping registering GPU devices...\n",
            "2024-01-19 21:36:02,242 - INFO - Using tensorflow=2.9.2, onnx=1.13.0, tf2onnx=1.13.0/2c1db5\n",
            "2024-01-19 21:36:02,242 - INFO - Using opset <onnx, 9>\n",
            "2024-01-19 21:36:02,325 - INFO - Computed 0 values for constant folding\n",
            "2024-01-19 21:36:02,395 - INFO - Optimizing ONNX model\n",
            "2024-01-19 21:36:02,515 - INFO - After optimization: Const -1 (15->14), GlobalMaxPool +1 (0->1), Identity -2 (2->0), ReduceMax -1 (1->0), Squeeze +1 (0->1), Transpose -17 (18->1)\n",
            "2024-01-19 21:36:02,522 - INFO - \n",
            "2024-01-19 21:36:02,522 - INFO - Successfully converted TensorFlow model C:/Users/somes/Downloads/Ball-Classification-main/Ball-Classification-main/saved_model to ONNX\n",
            "2024-01-19 21:36:02,522 - INFO - Model inputs: ['input']\n",
            "2024-01-19 21:36:02,522 - INFO - Model outputs: ['output']\n",
            "2024-01-19 21:36:02,522 - INFO - ONNX model is saved at C:/Users/somes/Downloads/Ball-Classification-main/Ball-Classification-main/model.onnx\n"
          ]
        }
      ],
      "source": [
        "!python -m tf2onnx.convert --saved-model C:/Users/somes/Downloads/Ball-Classification-main/Ball-Classification-main/saved_model --opset 9 --output C:/Users/somes/Downloads/Ball-Classification-main/Ball-Classification-main/model.onnx"
      ]
    },
    {
      "cell_type": "code",
      "execution_count": 18,
      "metadata": {
        "colab": {
          "base_uri": "https://localhost:8080/"
        },
        "id": "_P4ohgnTuBk1",
        "outputId": "5ec1f2ce-4c83-4ef6-87e9-02dd12425e69"
      },
      "outputs": [
        {
          "name": "stdout",
          "output_type": "stream",
          "text": [
            "[array([[9.9964440e-01, 3.5559706e-04]], dtype=float32)]\n"
          ]
        }
      ],
      "source": [
        "from PIL import Image\n",
        "import numpy as np\n",
        "import onnxruntime as ort\n",
        "\n",
        "onnx_path=\"C:\\\\Users\\\\somes\\\\Downloads\\\\Ball-Classification-main\\\\Ball-Classification-main\\\\model.onnx\"\n",
        "img = Image.open(\"C:\\\\Users\\\\somes\\\\Downloads\\\\Ball-Classification-main\\\\Ball-Classification-main\\\\train\\\\football\\\\088.jpg\").convert('RGB').resize((224,224))\n",
        "img=np.expand_dims(np.asarray(img, dtype=\"float32\"),axis=0)\n",
        "img=img/255\n",
        "\n",
        "sess_ort = ort.InferenceSession(onnx_path,providers=ort.get_available_providers())\n",
        "\n",
        "outputs = sess_ort.run(None, {sess_ort.get_inputs()[0].name: img})\n",
        "print(outputs)"
      ]
    }
  ],
  "metadata": {
    "accelerator": "GPU",
    "colab": {
      "provenance": []
    },
    "gpuClass": "standard",
    "kernelspec": {
      "display_name": "Python 3",
      "name": "python3"
    },
    "language_info": {
      "codemirror_mode": {
        "name": "ipython",
        "version": 3
      },
      "file_extension": ".py",
      "mimetype": "text/x-python",
      "name": "python",
      "nbconvert_exporter": "python",
      "pygments_lexer": "ipython3",
      "version": "3.8.18"
    }
  },
  "nbformat": 4,
  "nbformat_minor": 0
}
